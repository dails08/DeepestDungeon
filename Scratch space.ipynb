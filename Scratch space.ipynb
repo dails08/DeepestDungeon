{
 "cells": [
  {
   "cell_type": "code",
   "execution_count": 4,
   "id": "1a3ac7cd",
   "metadata": {},
   "outputs": [
    {
     "name": "stdout",
     "output_type": "stream",
     "text": [
      "numpy:\t 1.21.3\n"
     ]
    }
   ],
   "source": [
    "import numpy as np\n",
    "print(\"numpy:\\t\", np.__version__)"
   ]
  },
  {
   "cell_type": "markdown",
   "id": "4ac97639",
   "metadata": {},
   "source": [
    "## Setup\n",
    "\n",
    "The input to the model will have to capture:\n",
    "1. Per rank: \n",
    "    1. Class\n",
    "    1. HP, stress \n",
    "    1. Available skills (no equipped, on cooldown, out of uses) (actually, we'd have to represent cooldown duration and usage count)\n",
    "    1. Combat item\n",
    "    1. Active or not\n",
    "    1. Tokens\n",
    "    1. Has an action left this turn\n",
    "    1. (Ignore relationships for now)\n",
    "1. Per enemy rank:\n",
    "    1. Enemy type\n",
    "    1. HP\n",
    "    1. Tokens\n",
    "    1. Has an action left this turn\n",
    "2. Overall:\n",
    "    1. Rounds remaining\n",
    "\n",
    "I originally imagined capturing the state of the party in a fight as a 4x9x11x8 tensor (rank x class x skill x target) with the environment providing which actions were legal.  It's probably not necessary to have an addition tensor dimension for the class and instead OHE that and preprend it to the legal skills array.  This reduces to a (rank x class&skills x target) tensor.  And actually, you don't need the targets represented in the input, just the output, so the input could be OHE concatenation of the per-rank list stacked to make a m x 4 matrix, potentially concatenated with an m x 4 matrix for the opposing party and some additional numbers catted in there somewhere for rounds remaining.\n",
    "\n",
    "I think this leaves us with a $4 x ||{HP, Stress}|| + ||class|| + ||available skills|| + ||combat items|| + 1 (active) + 1 (has actions left) + ||tokens||$ matrix for the party. Let's say 9 classes, 10 skills each, 20 combat items, 10 distinct tokens, that gives us a 4 x 2+9+10+20+10 = 4 x 51 matrix for the party (ignoring cooldowns, usages, and relationships).  Not bad.\n",
    "\n",
    "For the enemy party, I imagine we'd only have to track enemy type, hp, and token.  Assume 100 enemy types for now, that's a 4 x 100 + 1 + 25 (assuming enemy-specific tokens like engorged or whatever) = 4 x 126 matrix for the enemy.  Not bad, either."
   ]
  },
  {
   "cell_type": "markdown",
   "id": "f24fc014",
   "metadata": {},
   "source": [
    "A model outputting state or action values could account for legality by outputting action values for each (skill, target) combination, then multiplying that elementwise by a legality matrix containing all 0s and 1s for valid (skill, target) combinations).  Actually, that wouldn't quite work since other actions might have negative value, so zeroing out an action value wouldn't necessarily zero out the change of it being the max value.  I guess you could multiply the complement of the legality matrix by a matrix full of -np.inf and then multiply THAT elementwise by the state value matrix output of the model."
   ]
  },
  {
   "cell_type": "code",
   "execution_count": 5,
   "id": "8d7f2d36",
   "metadata": {},
   "outputs": [],
   "source": [
    "example_hero = {}\n",
    "example_hero['hp'] = 6\n",
    "example_hero['max hp'] = 16\n",
    "example_hero['stress'] = 4\n",
    "example_hero['class'] = \"helion\"\n",
    "example_hero['skills'] = [\"whack\", \"chop\", \"iron swan\", \"barbaric yawp\"]\n",
    "example_hero['combat item'] = \"lye\"\n",
    "example_hero['active'] = 1\n",
    "example_hero['has action left'] = 0\n",
    "example_hero['tokens'] = [\"improved dodge\", \"burn 3 6\"]\n"
   ]
  },
  {
   "cell_type": "code",
   "execution_count": 6,
   "id": "c0dff96e",
   "metadata": {},
   "outputs": [
    {
     "data": {
      "text/plain": [
       "[0, 1, 0, 0, 0, 0, 0]"
      ]
     },
     "execution_count": 6,
     "metadata": {},
     "output_type": "execute_result"
    }
   ],
   "source": [
    "_classes = [\"man at arms\", \"helion\", \"grave robber\", \"highwayman\", \"leper\", \"runaway\", \"plague doctor\"]\n",
    "[1 if elem == \"helion\" else 0 for elem in _classes]\n"
   ]
  },
  {
   "cell_type": "code",
   "execution_count": 21,
   "id": "45eaefff",
   "metadata": {},
   "outputs": [
    {
     "name": "stdout",
     "output_type": "stream",
     "text": [
      "whack\n",
      "['whack', 'chop', 'iron swan', 'barbaric yawp', 'if it bleeds', 'breakthrough', 'revel']\n",
      "0\n",
      "chop\n",
      "['whack', 'chop', 'iron swan', 'barbaric yawp', 'if it bleeds', 'breakthrough', 'revel']\n",
      "1\n",
      "iron swan\n",
      "['whack', 'chop', 'iron swan', 'barbaric yawp', 'if it bleeds', 'breakthrough', 'revel']\n",
      "2\n",
      "barbaric yawp\n",
      "['whack', 'chop', 'iron swan', 'barbaric yawp', 'if it bleeds', 'breakthrough', 'revel']\n",
      "3\n"
     ]
    },
    {
     "data": {
      "text/plain": [
       "array([1., 1., 1., 1., 0., 0., 0., 0., 0., 0., 0.])"
      ]
     },
     "execution_count": 21,
     "metadata": {},
     "output_type": "execute_result"
    }
   ],
   "source": [
    "_skills = {}\n",
    "_skills['helion'] = [\"whack\", \"chop\", \"iron swan\", \"barbaric yawp\", \"if it bleeds\", \"breakthrough\", \"revel\"]\n",
    "_skills['plague doctor'] = [\"noxious blast\", \"blinding gas\", \"incision\", \"battlefield medicine\", \"ounce of prevention\", \"plague grenade\", \"emboldening vapors\"]\n",
    "_skills['man at arms'] = [\"crush\", \"rampart\", \"defender\", \"bolster\", \"hold the line\", \"bellow\", \"retribution\", \"command\"]\n",
    "_skills['grave robber'] = [\"pick to the face\", \"thrown dagger\", \"flashing daggers\", \"poison dart\", \"absinthe\", \"dead of night\", \"glint in the dark\", \"lunge\"]\n",
    "\n",
    "skills_vec = np.zeros((11))\n",
    "for skill in example_hero['skills']:\n",
    "    _ix = np.argwhere([1 if x == skill else 0 for x in _skills[example_hero['class']]])[0][0]\n",
    "    skills_vec[_ix] = 1\n",
    "skills_vec"
   ]
  },
  {
   "cell_type": "code",
   "execution_count": 18,
   "id": "ebc86a51",
   "metadata": {},
   "outputs": [
    {
     "data": {
      "text/plain": [
       "2"
      ]
     },
     "execution_count": 18,
     "metadata": {},
     "output_type": "execute_result"
    }
   ],
   "source": [
    "np.argwhere([1 if x == \"iron swan\" else 0 for x in _skills[example_hero['class']]])[0][0]"
   ]
  },
  {
   "cell_type": "code",
   "execution_count": null,
   "id": "50aa3e67",
   "metadata": {},
   "outputs": [],
   "source": [
    "def hero2vec(hero_dct):\n",
    "    _classes = [\"man at arms\" \"helion\", \"grave robber\", \"highwayman\", \"leper\", \"runaway\", \"plague doctor\"]\n",
    "    _skills = {}\n",
    "    _skills['helion'] = [\"whack\", \"chop\", \"iron swan\", \"barbaric yawp\", \"if it bleeds\", \"breakthrough\", \"revel\"]\n",
    "    _skills['plague doctor'] = [\"noxious blast\", \"blinding gas\", \"incision\", \"battlefield medicine\", \"ounce of prevention\", \"plague grenade\", \"emboldening vapors\"]\n",
    "    _skills['man at arms'] = [\"crush\", \"rampart\", \"defender\", \"bolster\", \"hold the line\", \"bellow\", \"retribution\", \"command\"]\n",
    "    _skills['grave robber'] = [\"pick to the face\", \"thrown dagger\", \"flashing daggers\", \"poison dart\", \"absinthe\", \"dead of night\", \"glint in the dark\", \"lunge\"]\n",
    "    \n",
    "    _combat_items = ['lye', 'heal potion', 'reed', 'fire bomb']\n",
    "    \n",
    "    _tokens = [\"critical\", \"riposte\", \"dodge\", \"improved dodge\", \"block\", \"improved block\", \"guard\", \"strength\", \"blind\", \"weak\", \"vulnerable\", \"taunt\", \"immobilize\", \"winded\", \"combo\", \"stealth\", \"burn\", \"bleed\", \"blight\", \"horror\", \"deaths door\"]\n",
    "    \n",
    "    hero_vec = []\n",
    "    hero_vec.append(hero_dct['hp'])\n",
    "    hero_vec.append(hero_dct['max hp'])\n",
    "    hero_vec.append(hero_dct['stress'])\n",
    "    hero_vec += [1 if elem == hero_dct['class'] else 0 for elem in _classes]\n",
    "    skills_vec = np.zeros((11))\n",
    "    for skill in example_hero['skills']:\n",
    "        _ix = np.argwhere([1 if x == skill else 0 for x in _skills[example_hero['class']]])[0][0]\n",
    "        skills_vec[_ix] = 1\n",
    "    hero_vec += skills_vec\n",
    "    combat_item_vec = np.zeros((1,4))\n",
    "    _ix = np.argwhere(hero_dct['combat item'] == )\n",
    "        skills_vec[ix] = 1\n",
    "    hero_vec += skills_vec\n",
    "    \n",
    "        "
   ]
  },
  {
   "cell_type": "code",
   "execution_count": 10,
   "id": "a8b3ae20",
   "metadata": {},
   "outputs": [],
   "source": [
    "equipped_skills = np.asarray([1,1,0,1,1,0,0,0,0,0,0,1])\n",
    "legal_actions = np.asarray([1,0,1,1,1,1,1,1,1,1,1,1])\n",
    "skill_targets = np.zeros((12,8))  # fixed 12x8.  Will need to expand first dimension to account for different combat items.\n",
    "# set skill targets\n",
    "skill_targets[0,4:6] = 1 # front two ranks\n",
    "skill_targets[1,5:7] = 1 # middle two ranks\n",
    "skill_targets[2,7] = 1 # back rank\n",
    "skill_targets[3,0:5] = 1 # all party ranks e.g, healing\n",
    "legal_targets = np.full((12,8), 1)  # dependent on e.g, stealth, turn-dependent"
   ]
  },
  {
   "cell_type": "raw",
   "id": "d86a12e0",
   "metadata": {},
   "source": []
  },
  {
   "cell_type": "code",
   "execution_count": 11,
   "id": "8c5ac804",
   "metadata": {},
   "outputs": [
    {
     "data": {
      "text/plain": [
       "array([1, 0, 0, 1, 1, 0, 0, 0, 0, 0, 0, 1])"
      ]
     },
     "execution_count": 11,
     "metadata": {},
     "output_type": "execute_result"
    }
   ],
   "source": [
    "equipped_skills * legal_actions"
   ]
  },
  {
   "cell_type": "code",
   "execution_count": 12,
   "id": "d3b106ed",
   "metadata": {},
   "outputs": [
    {
     "data": {
      "text/plain": [
       "array([[0., 0., 0., 0., 1., 1., 0., 0.],\n",
       "       [0., 0., 0., 0., 0., 1., 1., 0.],\n",
       "       [0., 0., 0., 0., 0., 0., 0., 1.],\n",
       "       [1., 1., 1., 1., 1., 0., 0., 0.],\n",
       "       [0., 0., 0., 0., 0., 0., 0., 0.],\n",
       "       [0., 0., 0., 0., 0., 0., 0., 0.],\n",
       "       [0., 0., 0., 0., 0., 0., 0., 0.],\n",
       "       [0., 0., 0., 0., 0., 0., 0., 0.],\n",
       "       [0., 0., 0., 0., 0., 0., 0., 0.],\n",
       "       [0., 0., 0., 0., 0., 0., 0., 0.],\n",
       "       [0., 0., 0., 0., 0., 0., 0., 0.],\n",
       "       [0., 0., 0., 0., 0., 0., 0., 0.]])"
      ]
     },
     "execution_count": 12,
     "metadata": {},
     "output_type": "execute_result"
    }
   ],
   "source": [
    "skill_targets"
   ]
  },
  {
   "cell_type": "code",
   "execution_count": 13,
   "id": "14610450",
   "metadata": {},
   "outputs": [],
   "source": [
    "# rank x class x skill x target (no combat items)\n",
    "party_tsr = np.zeros((4,9,11,8))"
   ]
  },
  {
   "cell_type": "code",
   "execution_count": 14,
   "id": "990f4fc8",
   "metadata": {},
   "outputs": [
    {
     "data": {
      "text/plain": [
       "3456"
      ]
     },
     "execution_count": 14,
     "metadata": {},
     "output_type": "execute_result"
    }
   ],
   "source": [
    "4*9*12*8"
   ]
  }
 ],
 "metadata": {
  "kernelspec": {
   "display_name": "Python 3 (ipykernel)",
   "language": "python",
   "name": "python3"
  },
  "language_info": {
   "codemirror_mode": {
    "name": "ipython",
    "version": 3
   },
   "file_extension": ".py",
   "mimetype": "text/x-python",
   "name": "python",
   "nbconvert_exporter": "python",
   "pygments_lexer": "ipython3",
   "version": "3.8.10"
  }
 },
 "nbformat": 4,
 "nbformat_minor": 5
}
